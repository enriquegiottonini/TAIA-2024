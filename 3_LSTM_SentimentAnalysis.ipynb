{
  "cells": [
    {
      "cell_type": "markdown",
      "metadata": {
        "id": "view-in-github",
        "colab_type": "text"
      },
      "source": [
        "<a href=\"https://colab.research.google.com/github/enriquegiottonini/TAIA-2024/blob/main/3_LSTM_SentimentAnalysis.ipynb\" target=\"_parent\"><img src=\"https://colab.research.google.com/assets/colab-badge.svg\" alt=\"Open In Colab\"/></a>"
      ]
    },
    {
      "cell_type": "code",
      "execution_count": null,
      "metadata": {
        "id": "bVXSVc7-CLbn"
      },
      "outputs": [],
      "source": [
        "import re\n",
        "import string\n",
        "import numpy as np\n",
        "import tensorflow as tf\n",
        "from tensorflow import keras\n",
        "from tensorflow.keras import layers"
      ]
    },
    {
      "cell_type": "markdown",
      "metadata": {
        "id": "N1Zn_TczCLbq"
      },
      "source": [
        "# Obteniendo datos\n",
        "\n",
        "Vamos a recuperar la base de datos globera de IMdb que se usa para probar casi todos los modelos. Vamos a recuperar los adatos de\n",
        "\n",
        "``https://ai.stanford.edu/~amaas/data/sentiment/aclImdb_v1.tar.gz``"
      ]
    },
    {
      "cell_type": "code",
      "execution_count": null,
      "metadata": {
        "id": "SlcCOEqoCLbs",
        "colab": {
          "base_uri": "https://localhost:8080/"
        },
        "outputId": "f289bbb6-3dd1-446b-bc11-64c5c94f8926"
      },
      "outputs": [
        {
          "output_type": "stream",
          "name": "stdout",
          "text": [
            "  % Total    % Received % Xferd  Average Speed   Time    Time     Time  Current\n",
            "                                 Dload  Upload   Total   Spent    Left  Speed\n",
            "100 80.2M  100 80.2M    0     0  4797k      0  0:00:17  0:00:17 --:--:-- 4536k\n"
          ]
        }
      ],
      "source": [
        "!curl -O https://ai.stanford.edu/~amaas/data/sentiment/aclImdb_v1.tar.gz\n",
        "!tar -xf aclImdb_v1.tar.gz"
      ]
    },
    {
      "cell_type": "markdown",
      "metadata": {
        "id": "iTa1siatCLbv"
      },
      "source": [
        " y vamos a investigas la estructura y lo que hay..."
      ]
    },
    {
      "cell_type": "code",
      "execution_count": null,
      "metadata": {
        "id": "HIwjDFyDCLbz",
        "colab": {
          "base_uri": "https://localhost:8080/"
        },
        "outputId": "38b9bc90-568e-4fc2-e90d-a90280778eeb"
      },
      "outputs": [
        {
          "output_type": "stream",
          "name": "stdout",
          "text": [
            "imdbEr.txt  imdb.vocab\tREADME\ttest  train\n"
          ]
        }
      ],
      "source": [
        "!ls aclImdb"
      ]
    },
    {
      "cell_type": "code",
      "execution_count": null,
      "metadata": {
        "id": "00n3JNlXCLb2",
        "colab": {
          "base_uri": "https://localhost:8080/"
        },
        "outputId": "7f1d8040-0a11-412d-8584-0fff54088b61"
      },
      "outputs": [
        {
          "output_type": "stream",
          "name": "stdout",
          "text": [
            "labeledBow.feat  neg  pos  urls_neg.txt  urls_pos.txt\n"
          ]
        }
      ],
      "source": [
        "!ls aclImdb/test"
      ]
    },
    {
      "cell_type": "code",
      "execution_count": null,
      "metadata": {
        "id": "FhPRMlXyCLb4",
        "colab": {
          "base_uri": "https://localhost:8080/"
        },
        "outputId": "f5261196-15bf-48de-af02-f832d8c8d6ab"
      },
      "outputs": [
        {
          "output_type": "stream",
          "name": "stdout",
          "text": [
            "labeledBow.feat  neg  pos  unsup  unsupBow.feat  urls_neg.txt  urls_pos.txt  urls_unsup.txt\n"
          ]
        }
      ],
      "source": [
        "!ls aclImdb/train"
      ]
    },
    {
      "cell_type": "code",
      "execution_count": null,
      "metadata": {
        "id": "l35bU6WvCLb8",
        "colab": {
          "base_uri": "https://localhost:8080/"
        },
        "outputId": "3beef5cd-456c-4e8b-be74-f21df36284c7"
      },
      "outputs": [
        {
          "output_type": "stream",
          "name": "stdout",
          "text": [
            "Being an Austrian myself this has been a straight knock in my face. Fortunately I don't live nowhere near the place where this movie takes place but unfortunately it portrays everything that the rest of Austria hates about Viennese people (or people close to that region). And it is very easy to read that this is exactly the directors intention: to let your head sink into your hands and say \"Oh my god, how can THAT be possible!\". No, not with me, the (in my opinion) totally exaggerated uncensored swinger club scene is not necessary, I watch porn, sure, but in this context I was rather disgusted than put in the right context.<br /><br />This movie tells a story about how misled people who suffer from lack of education or bad company try to survive and live in a world of redundancy and boring horizons. A girl who is treated like a whore by her super-jealous boyfriend (and still keeps coming back), a female teacher who discovers her masochism by putting the life of her super-cruel \"lover\" on the line, an old couple who has an almost mathematical daily cycle (she is the \"official replacement\" of his ex wife), a couple that has just divorced and has the ex husband suffer under the acts of his former wife obviously having a relationship with her masseuse and finally a crazy hitchhiker who asks her drivers the most unusual questions and stretches their nerves by just being super-annoying.<br /><br />After having seen it you feel almost nothing. You're not even shocked, sad, depressed or feel like doing anything... Maybe that's why I gave it 7 points, it made me react in a way I never reacted before. If that's good or bad is up to you!"
          ]
        }
      ],
      "source": [
        "!cat aclImdb/train/pos/6248_7.txt"
      ]
    },
    {
      "cell_type": "markdown",
      "metadata": {
        "id": "V66oauH9CLcB"
      },
      "source": [
        "Solo nos interesan las evaluaciones positivas y negativas (para hacer una simple clasificación binaria y simplificar la aplicación), por lo que vamos a borrar el folder `unsup`:"
      ]
    },
    {
      "cell_type": "code",
      "execution_count": null,
      "metadata": {
        "id": "xTnGYaJcCLcF"
      },
      "outputs": [],
      "source": [
        "!rm -r aclImdb/train/unsup"
      ]
    },
    {
      "cell_type": "markdown",
      "metadata": {
        "id": "RZFwUDYPCLcH"
      },
      "source": [
        "Ahora si, vamos a usar las librerías de `Keras` para leer los datos usando [`keras.utils.text_dataset_from_directory`](https://www.tensorflow.org/api_docs/python/tf/keras/utils/text_dataset_from_directory).\n",
        "\n",
        "En este momento es donde tenemos que determinar el tamaño de los lotes."
      ]
    },
    {
      "cell_type": "code",
      "execution_count": null,
      "metadata": {
        "id": "z7HbLf2nCLcJ",
        "colab": {
          "base_uri": "https://localhost:8080/"
        },
        "outputId": "a94053f6-39fe-4249-91d7-bf99c1309c39"
      },
      "outputs": [
        {
          "output_type": "stream",
          "name": "stdout",
          "text": [
            "Found 25000 files belonging to 2 classes.\n",
            "Using 20000 files for training.\n",
            "Found 25000 files belonging to 2 classes.\n",
            "Using 5000 files for validation.\n",
            "Found 25000 files belonging to 2 classes.\n"
          ]
        }
      ],
      "source": [
        "batch_size = 32         # Tamaño de los minibatches\n",
        "\n",
        "raw_train_ds = keras.utils.text_dataset_from_directory(\n",
        "    \"aclImdb/train\",\n",
        "    batch_size=batch_size,\n",
        "    validation_split=0.2,\n",
        "    subset=\"training\",\n",
        "    seed=1337,\n",
        ")\n",
        "raw_val_ds = tf.keras.utils.text_dataset_from_directory(\n",
        "    \"aclImdb/train\",\n",
        "    batch_size=batch_size,\n",
        "    validation_split=0.2,\n",
        "    subset=\"validation\",\n",
        "    seed=1337,\n",
        ")\n",
        "raw_test_ds = tf.keras.utils.text_dataset_from_directory(\n",
        "    \"aclImdb/test\", batch_size=batch_size\n",
        ")"
      ]
    },
    {
      "cell_type": "code",
      "execution_count": null,
      "metadata": {
        "id": "xHi6Yc8uCLcK",
        "colab": {
          "base_uri": "https://localhost:8080/"
        },
        "outputId": "e820e33f-d562-4f83-a979-7eaee53a2172"
      },
      "outputs": [
        {
          "output_type": "stream",
          "name": "stdout",
          "text": [
            "Numero de batches en raw_train_ds: 625\n",
            "Numero de batches en raw_val_ds: 157\n",
            "Numero de batches en raw_test_ds: 782\n"
          ]
        }
      ],
      "source": [
        "print(f\"Numero de batches en raw_train_ds: {raw_train_ds.cardinality()}\")\n",
        "print(f\"Numero de batches en raw_val_ds: {raw_val_ds.cardinality()}\")\n",
        "print(f\"Numero de batches en raw_test_ds: {raw_test_ds.cardinality()}\")"
      ]
    },
    {
      "cell_type": "markdown",
      "metadata": {
        "id": "e0thwQWkCLcM"
      },
      "source": [
        "Es importante revisar los datos crudos para tener una idea de como se recuperaron y cual es la forma que tienen.\n",
        "\n",
        "Esto lo podemos hacer tomando algunos datos de cada batch e imprimiendolos:"
      ]
    },
    {
      "cell_type": "code",
      "execution_count": null,
      "metadata": {
        "id": "n4G9Vz9KCLcM",
        "colab": {
          "base_uri": "https://localhost:8080/"
        },
        "outputId": "82e0cf83-3ffa-4b1c-fc1d-a9e052e7e159"
      },
      "outputs": [
        {
          "output_type": "stream",
          "name": "stdout",
          "text": [
            "b'I\\'ve seen tons of science fiction from the 70s; some horrendously bad, and\n",
            "> others thought provoking and truly frightening. Soylent Green fits into the\n",
            "> latter category. Yes, at times it\\'s a little campy, and yes, the furniture is\n",
            "> good for a giggle or two, but some of the film seems awfully prescient. Here\n",
            "> we have a film, 9 years before Blade Runner, that dares to imagine the future\n",
            "> as somthing dark, scary, and nihilistic. Both Charlton Heston and Edward G.\n",
            "> Robinson fare far better in this than The Ten Commandments, and Robinson\\'s\n",
            "> assisted-suicide scene is creepily prescient of Kevorkian and his ilk. Some of\n",
            "> the attitudes are dated (can you imagine a filmmaker getting away with the\n",
            "> \"women as furniture\" concept in our oh-so-politically-correct-90s?), but it\\'s\n",
            "> rare to find a film from the Me Decade that actually can make you think. This\n",
            "> is one I\\'d love to see on the big screen, because even in a widescreen\n",
            "> presentation, I don\\'t think the overall scope of this film would receive its\n",
            "> due. Check it out.'\n",
            "\n",
            "target = 1\n",
            "b'First than anything, I\\'m not going to praise I\\xc3\\xb1arritu\\'s short film,\n",
            "> even I\\'m Mexican and proud of his success in mainstream Hollywood.<br /><br\n",
            "> />In another hand, I see most of the reviews focuses on their favorite (and\n",
            "> not so) short films; but we are forgetting that there is a subtle bottom line\n",
            "> that circles the whole compilation, and maybe it will not be so pleasant for\n",
            "> American people. (Even if that was not the main purpose of the producers) <br\n",
            "> /><br />What i\\'m talking about is that most of the short films does not show\n",
            "> the suffering that WASP people went through because the terrorist attack on\n",
            "> September 11th, but the suffering of the Other people.<br /><br />Do you need\n",
            "> proofs about what i\\'m saying? Look, in the Bosnia short film, the message is:\n",
            "> \"You cry because of the people who died in the Towers, but we (The Others =\n",
            "> East Europeans) are crying long ago for the crimes committed against our women\n",
            "> and nobody pay attention to us like the whole world has done to you\".<br /><br\n",
            "> />Even though the Burkina Fasso story is more in comedy, there is a the same\n",
            "> thought: \"You are angry because Osama Bin Laden punched you in an evil way,\n",
            "> but we (The Others = Africans) should be more angry, because our people is\n",
            "> dying of hunger, poverty and AIDS long time ago, and nobody pay attention to\n",
            "> us like the whole world has done to you\".<br /><br />Look now at the Sean Penn\n",
            "> short: The fall of the Twin Towers makes happy to a lonely (and alienated)\n",
            "> man. So the message is that the Power and the Greed (symbolized by the Towers)\n",
            "> must fall for letting the people see the sun rise and the flowers blossom? It\n",
            "> is remarkable that this terrible bottom line has been proposed by an American.\n",
            "> There is so much irony in this short film that it is close to be\n",
            "> subversive.<br /><br />Well, the Ken Loach (very know because his anti-\n",
            "> capitalism ideology) is much more clearly and shameless in going straight to\n",
            "> the point: \"You are angry because your country has been attacked by evil\n",
            "> forces, but we (The Others = Latin Americans) suffered at a similar date\n",
            "> something worst, and nobody remembers our grief as the whole world has done to\n",
            "> you\".<br /><br />It is like if the creative of this project wanted to say to\n",
            "> Americans: \"You see now, America? You are not the only that have become victim\n",
            "> of the world violence, you are not alone in your pain and by the way, we (the\n",
            "> Others = the Non Americans) have been suffering a lot more than you from long\n",
            "> time ago; so, we are in solidarity with you in your pain... and by the way, we\n",
            "> are sorry because you have had some taste of your own medicine\" Only the\n",
            "> Mexican and the French short films showed some compassion and sympathy for\n",
            "> American people; the others are like a slap on the face for the American\n",
            "> State, that is not equal to American People.'\n",
            "\n",
            "target = 1\n",
            "b'Blood Castle (aka Scream of the Demon Lover, Altar of Blood, Ivanna--the best,\n",
            "> but least exploitation cinema-sounding title, and so on) is a very traditional\n",
            "> Gothic Romance film. That means that it has big, creepy castles, a headstrong\n",
            "> young woman, a mysterious older man, hints of horror and the supernatural, and\n",
            "> romance elements in the contemporary sense of that genre term. It also means\n",
            "> that it is very deliberately paced, and that the film will work best for\n",
            "> horror mavens who are big fans of understatement. If you love films like\n",
            "> Robert Wise\\'s The Haunting (1963), but you also have a taste for late\n",
            "> 1960s/early 1970s Spanish and Italian horror, you may love Blood Castle, as\n",
            "> well.<br /><br />Baron Janos Dalmar (Carlos Quiney) lives in a large castle on\n",
            "> the outskirts of a traditional, unspecified European village. The locals fear\n",
            "> him because legend has it that whenever he beds a woman, she soon after ends\n",
            "> up dead--the consensus is that he sets his ferocious dogs on them. This is\n",
            "> quite a problem because the Baron has a very healthy appetite for women. At\n",
            "> the beginning of the film, yet another woman has turned up dead and\n",
            "> mutilated.<br /><br />Meanwhile, Dr. Ivanna Rakowsky (Erna Sch\\xc3\\xbcrer) has\n",
            "> appeared in the center of the village, asking to be taken to Baron Dalmar\\'s\n",
            "> castle. She\\'s an out-of-towner who has been hired by the Baron for her\n",
            "> expertise in chemistry. Of course, no one wants to go near the castle.\n",
            "> Finally, Ivanna finds a shady individual (who becomes even shadier) to take\n",
            "> her. Once there, an odd woman who lives in the castle, Olga (Cristiana\n",
            "> Galloni), rejects Ivanna and says that she shouldn\\'t be there since she\\'s a\n",
            "> woman. Baron Dalmar vacillates over whether she should stay. She ends up\n",
            "> staying, but somewhat reluctantly. The Baron has hired her to try to reverse\n",
            "> the effects of severe burns, which the Baron\\'s brother, Igor, is suffering\n",
            "> from.<br /><br />Unfortunately, the Baron\\'s brother appears to be just a lump\n",
            "> of decomposing flesh in a vat of bizarre, blackish liquid. And furthermore,\n",
            "> Ivanna is having bizarre, hallucinatory dreams. Just what is going on at the\n",
            "> castle? Is the Baron responsible for the crimes? Is he insane? <br /><br />I\n",
            "> wanted to like Blood Castle more than I did. As I mentioned, the film is very\n",
            "> deliberate in its pacing, and most of it is very understated. I can go either\n",
            "> way on material like that. I don\\'t care for The Haunting (yes, I\\'m in a very\n",
            "> small minority there), but I\\'m a big fan of 1960s and 1970s European horror.\n",
            "> One of my favorite directors is Mario Bava. I also love Dario Argento\\'s work\n",
            "> from that period. But occasionally, Blood Castle moved a bit too slow for me\n",
            "> at times. There are large chunks that amount to scenes of not very exciting\n",
            "> talking alternated with scenes of Ivanna slowly walking the corridors of the\n",
            "> castle.<br /><br />But the atmosphere of the film is decent. Director\n",
            "> Jos\\xc3\\xa9 Luis Merino managed more than passable sets and locations, and\n",
            "> they\\'re shot fairly well by Emanuele Di Cola. However, Blood Castle feels\n",
            "> relatively low budget, and this is a Roger Corman-produced film, after all\n",
            "> (which usually means a low-budget, though often surprisingly high quality\n",
            "> \"quickie\"). So while there is a hint of the lushness of Bava\\'s colors and\n",
            "> complex set decoration, everything is much more minimalist. Of course, it\n",
            "> doesn\\'t help that the Retromedia print I watched looks like a 30-year old\n",
            "> photograph that\\'s been left out in the sun too long. It appears \"washed out\",\n",
            "> with compromised contrast.<br /><br />Still, Merino and Di Cola occasionally\n",
            "> set up fantastic visuals. For example, a scene of Ivanna walking in a darkened\n",
            "> hallway that\\'s shot from an exaggerated angle, and where an important plot\n",
            "> element is revealed through shadows on a wall only. There are also a couple\n",
            "> Ingmar Bergmanesque shots, where actors are exquisitely blocked to imply\n",
            "> complex relationships, besides just being visually attractive and pulling your\n",
            "> eye deep into the frame.<br /><br />The performances are fairly good, and the\n",
            "> women--especially Sch\\xc3\\xbcrer--are very attractive. Merino exploits this\n",
            "> fact by incorporating a decent amount of nudity. Sch\\xc3\\xbcrer went on to do\n",
            "> a number of films that were as much soft corn porn as they were other genres,\n",
            "> with English titles such as Sex Life in a Woman\\'s Prison (1974), Naked and\n",
            "> Lustful (1974), Strip Nude for Your Killer (1975) and Erotic Exploits of a\n",
            "> Sexy Seducer (1977). Blood Castle is much tamer, but in addition to the\n",
            "> nudity, there are still mild scenes suggesting rape and bondage, and of course\n",
            "> the scenes mixing sex and death.<br /><br />The primary attraction here,\n",
            "> though, is probably the story, which is much a slow-burning romance as\n",
            "> anything else. The horror elements, the mystery elements, and a somewhat\n",
            "> unexpected twist near the end are bonuses, but in the end, Blood Castle is a\n",
            "> love story, about a couple overcoming various difficulties and antagonisms\n",
            "> (often with physical threats or harms) to be together.'\n",
            "\n",
            "target = 1\n",
            "b\"I was talked into watching this movie by a friend who blubbered on about what\n",
            "> a cute story this was.<br /><br />Yuck.<br /><br />I want my two hours back,\n",
            "> as I could have done SO many more productive things with my time...like, for\n",
            "> instance, twiddling my thumbs. I see nothing redeeming about this film at all,\n",
            "> save for the eye-candy aspect of it...<br /><br />3/10 (and that's being\n",
            "> generous)\"\n",
            "\n",
            "target = 0\n",
            "b\"Michelle Rodriguez is the defining actress who could be the charging force for\n",
            "> other actresses to look out for. She has the audacity to place herself in a\n",
            "> rarely seen tough-girl role very early in her career (and pull it off), which\n",
            "> is a feat that should be recognized. Although her later films pigeonhole her\n",
            "> to that same role, this film was made for her ruggedness.<br /><br />Her\n",
            "> character is a romanticized student/fighter/lover, struggling to overcome her\n",
            "> disenchanted existence in the projects, which is a little overdone in\n",
            "> film...but not by a girl. That aspect of this film isn't very original, but\n",
            "> the story goes in depth when the heated relationships that this girl has to\n",
            "> deal with come to a boil and her primal rage takes over.<br /><br />I haven't\n",
            "> seen an actress take such an aggressive stance in movie-making yet, and I'm\n",
            "> glad that she's getting that original twist out there in Hollywood. This film\n",
            "> got a 7 from me because of the average story of ghetto youth, but it has such\n",
            "> a great actress portraying a rarely-seen role in a minimal budget movie. Great\n",
            "> work.\"\n",
            "\n",
            "target = 1\n"
          ]
        }
      ],
      "source": [
        "import textwrap\n",
        "\n",
        "for text_batch, label_batch in raw_train_ds.take(1):\n",
        "    for i in range(5):\n",
        "        print(textwrap.fill(str(text_batch.numpy()[i]), 80, subsequent_indent='> '))\n",
        "        print(\"\\ntarget =\", label_batch.numpy()[i])"
      ]
    },
    {
      "cell_type": "markdown",
      "metadata": {
        "id": "V5v-5IpwCLcO"
      },
      "source": [
        "## Preparando los datos\n",
        "\n",
        "Vamos ahora a convertir cada string de datos en una serie de índices numéricos, los cuales puedan entrar en\n",
        "un modelo neuronal. Para esto, vamos a generar índices a partir de las palabras existentesd en el texto.\n",
        "\n",
        "Este métdo puede ser no el mejor, ya que el vocabulario se fija en relación al vocabulario encontrado en el\n",
        "conjunto de aprendizaje. Más adelante veremos mñetodos más sofisticados para hacer la indezación, o como\n",
        "usar un vocabulario indexado ya preestablecido.\n",
        "\n",
        "Por el momento vamos primero a especificar el proceso de limpieza de texto (preprocesamiento) el cual será muy sencillo para este ejemplo y consiste en:\n",
        "\n",
        "1. Convertir a minúsculas todas las letras\n",
        "2. Eliminar los saltos de linea en formato *html* ( `<br /> `)\n",
        "3. Eliminar los signos de puntuación\n",
        "\n",
        "Igualmente, vamos a generar los minibatches con secuencias de `sequence_length` palabras. Esto es, si es insuficiente, se trunca el texto y si es\n",
        "demasiado, se completa el texto con 0's. De esa manera, todos los modelos aprenden con secuencias del mismo tamaño.\n",
        "\n",
        "Se utilizan hasta `max_features` tokens diferentes. De haber más, estos se eliminan en función de su frecuencia.\n",
        "\n",
        "Para esto vamos a utilizar la capa de `Keras` de [`layers.TextVectorization`](https://keras.io/api/layers/preprocessing_layers/text/text_vectorization/)"
      ]
    },
    {
      "cell_type": "code",
      "execution_count": null,
      "metadata": {
        "id": "60Wp9MTUCLcP"
      },
      "outputs": [],
      "source": [
        "# Model constants.\n",
        "max_features = 20000\n",
        "sequence_length = 500\n",
        "\n",
        "# Preprocesamiento\n",
        "def custom_standardization(input_data):\n",
        "    lowercase = tf.strings.lower(input_data)\n",
        "    stripped_html = tf.strings.regex_replace(lowercase, \"<br />\", \" \")\n",
        "    return tf.strings.regex_replace(\n",
        "        stripped_html, f\"[{re.escape(string.punctuation)}]\", \"\"\n",
        "    )\n",
        "\n",
        "\n",
        "# Capa de vectorización (encontrar los índices por palabra)\n",
        "vectorize_layer = layers.TextVectorization(\n",
        "    standardize=custom_standardization,\n",
        "    max_tokens=max_features,\n",
        "    output_mode=\"int\",\n",
        "    output_sequence_length=sequence_length,\n",
        ")\n",
        "\n",
        "# Now that the vectorize_layer has been created, call `adapt` on a text-only\n",
        "# dataset to create the vocabulary. You don't have to batch, but for very large\n",
        "# datasets this means you're not keeping spare copies of the dataset in memory.\n",
        "\n",
        "# Let's make a text-only dataset (no labels):\n",
        "text_ds = raw_train_ds.map(lambda x, y: x)\n",
        "\n",
        "# Let's call `adapt`:\n",
        "vectorize_layer.adapt(text_ds)"
      ]
    },
    {
      "cell_type": "code",
      "execution_count": null,
      "metadata": {
        "id": "NpVda8FbCLcR"
      },
      "outputs": [],
      "source": [
        "def vectorize_text(text, label):\n",
        "    text = tf.expand_dims(text, -1)\n",
        "    return vectorize_layer(text), label"
      ]
    },
    {
      "cell_type": "code",
      "execution_count": null,
      "metadata": {
        "id": "Y4HFSUPHCLcT"
      },
      "outputs": [],
      "source": [
        "# Vectorize the data.\n",
        "train_ds = raw_train_ds.map(vectorize_text)\n",
        "val_ds = raw_val_ds.map(vectorize_text)\n",
        "test_ds = raw_test_ds.map(vectorize_text)"
      ]
    },
    {
      "cell_type": "code",
      "execution_count": null,
      "metadata": {
        "id": "n0O2YWd2CLcU"
      },
      "outputs": [],
      "source": [
        "# Do async prefetching / buffering of the data for best performance on GPU.\n",
        "train_ds = train_ds.cache().prefetch(buffer_size=10)\n",
        "val_ds = val_ds.cache().prefetch(buffer_size=10)\n",
        "test_ds = test_ds.cache().prefetch(buffer_size=10)"
      ]
    },
    {
      "cell_type": "code",
      "execution_count": null,
      "metadata": {
        "id": "9Yo0CqNYCLcW",
        "colab": {
          "base_uri": "https://localhost:8080/"
        },
        "outputId": "70c567b2-da31-4ea0-e228-b1d2157d0e27"
      },
      "outputs": [
        {
          "output_type": "stream",
          "name": "stdout",
          "text": [
            "Donde se guardan los datos de entrenamiento\n",
            "train_ds.cardinality() =  tf.Tensor(625, shape=(), dtype=int64)\n",
            "\n",
            "Y un minibatch se representa de esta manera: \n",
            "\n",
            "(<tf.Tensor: shape=(32, 500), dtype=int64, numpy=\n",
            "array([[  10,    7,  240, ...,    0,    0,    0],\n",
            "       [  10,   17,   13, ...,    0,    0,    0],\n",
            "       [  89,   76,   69, ...,    0,    0,    0],\n",
            "       ...,\n",
            "       [1196,   50,   11, ...,    0,    0,    0],\n",
            "       [  47,   13,  136, ...,    0,    0,    0],\n",
            "       [  11,  727,  159, ...,    0,    0,    0]])>, <tf.Tensor: shape=(32,), dtype=int32, numpy=\n",
            "array([1, 0, 0, 1, 0, 1, 1, 0, 1, 0, 1, 0, 0, 1, 0, 1, 1, 1, 0, 0, 1, 0,\n",
            "       0, 1, 1, 1, 1, 1, 1, 1, 0, 0], dtype=int32)>)\n"
          ]
        }
      ],
      "source": [
        "print(\"Donde se guardan los datos de entrenamiento\")\n",
        "print(\"train_ds.cardinality() = \", train_ds.cardinality())\n",
        "\n",
        "ejemplo = train_ds.take(1)\n",
        "\n",
        "print(\"\\nY un minibatch se representa de esta manera: \\n\")\n",
        "print(ejemplo.get_single_element())"
      ]
    },
    {
      "cell_type": "markdown",
      "metadata": {
        "id": "sIC-ZItxCLcX"
      },
      "source": [
        "## Modelo basado en LSTM multicapa\n",
        "\n",
        "Vamos a hacer un modelo multicapa, el cual seguramente requerirá de ajustes de su parte.\n",
        "\n",
        "Vamos a utilizar la forma funcional de definir un modelo neuronal:"
      ]
    },
    {
      "cell_type": "code",
      "execution_count": null,
      "metadata": {
        "id": "CDWwCyNjCLcY",
        "colab": {
          "base_uri": "https://localhost:8080/"
        },
        "outputId": "30267573-4265-4639-9b45-7bcec3783809"
      },
      "outputs": [
        {
          "output_type": "stream",
          "name": "stdout",
          "text": [
            "Model: \"model\"\n",
            "_________________________________________________________________\n",
            " Layer (type)                Output Shape              Param #   \n",
            "=================================================================\n",
            " input_1 (InputLayer)        [(None, None)]            0         \n",
            "                                                                 \n",
            " embedding (Embedding)       (None, None, 128)         2560000   \n",
            "                                                                 \n",
            " lstm (LSTM)                 (None, None, 128)         131584    \n",
            "                                                                 \n",
            " lstm_1 (LSTM)               (None, 128)               131584    \n",
            "                                                                 \n",
            " predictions (Dense)         (None, 1)                 129       \n",
            "                                                                 \n",
            "=================================================================\n",
            "Total params: 2823297 (10.77 MB)\n",
            "Trainable params: 2823297 (10.77 MB)\n",
            "Non-trainable params: 0 (0.00 Byte)\n",
            "_________________________________________________________________\n"
          ]
        }
      ],
      "source": [
        "emb = 128               # Embedding size\n",
        "unidades = 128          # Hidden units per layer\n",
        "\n",
        "# Entrada en indices\n",
        "inputs = keras.Input(shape=(None,), dtype=\"int64\")\n",
        "\n",
        "# Capa de embeddings\n",
        "x = layers.Embedding(max_features, emb)(inputs)\n",
        "\n",
        "# Dos capas de LSTMs\n",
        "x = layers.LSTM(unidades, return_sequences=True)(x)\n",
        "x = layers.LSTM(unidades)(x)\n",
        "\n",
        "# Salida\n",
        "predictions = layers.Dense(1, activation=\"sigmoid\", name=\"predictions\")(x)\n",
        "\n",
        "model = keras.Model(inputs, predictions)\n",
        "model.summary()"
      ]
    },
    {
      "cell_type": "markdown",
      "metadata": {
        "id": "UlMM1_aDCLca"
      },
      "source": [
        "Compilamos y ponemos a aprender el modelo (usando BPTT en forma automñatica)"
      ]
    },
    {
      "cell_type": "code",
      "execution_count": null,
      "metadata": {
        "id": "-G0jD11UCLcc",
        "colab": {
          "base_uri": "https://localhost:8080/"
        },
        "outputId": "9a6fbe0e-91ca-40ad-82a7-69a1a2fbbe0a"
      },
      "outputs": [
        {
          "output_type": "stream",
          "name": "stdout",
          "text": [
            "Epoch 1/2\n",
            "625/625 [==============================] - 1169s 2s/step - loss: 0.6933 - accuracy: 0.5033 - val_loss: 0.6928 - val_accuracy: 0.5048\n",
            "Epoch 2/2\n",
            "625/625 [==============================] - 1154s 2s/step - loss: 0.6955 - accuracy: 0.5157 - val_loss: 0.6953 - val_accuracy: 0.5028\n"
          ]
        },
        {
          "output_type": "execute_result",
          "data": {
            "text/plain": [
              "<keras.src.callbacks.History at 0x7d569229c580>"
            ]
          },
          "metadata": {},
          "execution_count": 26
        }
      ],
      "source": [
        "model.compile(\n",
        "    \"adam\",\n",
        "    \"binary_crossentropy\",\n",
        "    metrics=[\"accuracy\"]\n",
        ")\n",
        "\n",
        "model.fit(\n",
        "    train_ds,\n",
        "    validation_data=val_ds,\n",
        "    epochs=2\n",
        ")"
      ]
    },
    {
      "cell_type": "markdown",
      "metadata": {
        "id": "afK7TLRHCLcd"
      },
      "source": [
        "Y probamos con los datos de test"
      ]
    },
    {
      "cell_type": "code",
      "execution_count": null,
      "metadata": {
        "id": "PSmjGx0xCLce",
        "colab": {
          "base_uri": "https://localhost:8080/"
        },
        "outputId": "274ef536-31fc-4af3-a841-f96f74753067"
      },
      "outputs": [
        {
          "output_type": "stream",
          "name": "stdout",
          "text": [
            "782/782 [==============================] - 412s 527ms/step - loss: 0.6951 - accuracy: 0.5048\n"
          ]
        },
        {
          "output_type": "execute_result",
          "data": {
            "text/plain": [
              "[0.6951296925544739, 0.5048400163650513]"
            ]
          },
          "metadata": {},
          "execution_count": 27
        }
      ],
      "source": [
        "model.evaluate(test_ds)"
      ]
    },
    {
      "cell_type": "markdown",
      "metadata": {
        "id": "xL0dq0DeCLcf"
      },
      "source": [
        "Y ahora vamos a probar con bi-LSTM, haciendo un poco más complicado (aunque no mucho) el código"
      ]
    },
    {
      "cell_type": "code",
      "execution_count": null,
      "metadata": {
        "id": "Se4C5oARCLcg",
        "colab": {
          "base_uri": "https://localhost:8080/"
        },
        "outputId": "1366e4df-1454-46d2-e7e9-f4e81494505a"
      },
      "outputs": [
        {
          "output_type": "stream",
          "name": "stdout",
          "text": [
            "Model: \"model\"\n",
            "_________________________________________________________________\n",
            " Layer (type)                Output Shape              Param #   \n",
            "=================================================================\n",
            " input_1 (InputLayer)        [(None, None)]            0         \n",
            "                                                                 \n",
            " embedding (Embedding)       (None, None, 128)         2560000   \n",
            "                                                                 \n",
            " bidirectional (Bidirection  (None, None, 256)         263168    \n",
            " al)                                                             \n",
            "                                                                 \n",
            " bidirectional_1 (Bidirecti  (None, 256)               394240    \n",
            " onal)                                                           \n",
            "                                                                 \n",
            " dense (Dense)               (None, 128)               32896     \n",
            "                                                                 \n",
            " predictions (Dense)         (None, 1)                 129       \n",
            "                                                                 \n",
            "=================================================================\n",
            "Total params: 3250433 (12.40 MB)\n",
            "Trainable params: 3250433 (12.40 MB)\n",
            "Non-trainable params: 0 (0.00 Byte)\n",
            "_________________________________________________________________\n"
          ]
        }
      ],
      "source": [
        "emb = 128\n",
        "unidades = 128\n",
        "\n",
        "# Input\n",
        "inputs = keras.Input(shape=(None,), dtype=\"int32\")\n",
        "\n",
        "# Capa de embeddings\n",
        "x = layers.Embedding(max_features, emb)(inputs)\n",
        "\n",
        "# bi-LSTMs\n",
        "x = layers.Bidirectional(\n",
        "    layers.LSTM(unidades, return_sequences=True)\n",
        ")(x)\n",
        "x = layers.Bidirectional(\n",
        "    layers.LSTM(unidades)\n",
        ")(x)\n",
        "\n",
        "# Vanilla hidden layer:\n",
        "x = layers.Dense(unidades, activation=\"relu\")(x)\n",
        "\n",
        "# Salida\n",
        "predictions = layers.Dense(1, activation=\"sigmoid\", name=\"predictions\")(x)\n",
        "\n",
        "model_bi = keras.Model(inputs, predictions)\n",
        "model_bi.summary()"
      ]
    },
    {
      "cell_type": "code",
      "execution_count": null,
      "metadata": {
        "id": "Izl_15LcCLch",
        "colab": {
          "base_uri": "https://localhost:8080/"
        },
        "outputId": "b1b971b4-3358-46c2-cc7e-33460c40ce5a"
      },
      "outputs": [
        {
          "output_type": "stream",
          "name": "stdout",
          "text": [
            "Epoch 1/2\n",
            "625/625 [==============================] - 2250s 4s/step - loss: 0.6307 - accuracy: 0.6374 - val_loss: 0.6567 - val_accuracy: 0.6184\n",
            "Epoch 2/2\n",
            "625/625 [==============================] - 2127s 3s/step - loss: 0.5000 - accuracy: 0.7548 - val_loss: 0.4459 - val_accuracy: 0.7944\n"
          ]
        },
        {
          "output_type": "execute_result",
          "data": {
            "text/plain": [
              "<keras.src.callbacks.History at 0x79f4cebf4910>"
            ]
          },
          "metadata": {},
          "execution_count": 17
        }
      ],
      "source": [
        "model_bi.compile(\n",
        "    \"adam\",\n",
        "    \"binary_crossentropy\",\n",
        "    metrics=[\"accuracy\"]\n",
        ")\n",
        "\n",
        "model_bi.fit(\n",
        "    train_ds,\n",
        "    validation_data=val_ds,\n",
        "    epochs=2\n",
        ")"
      ]
    },
    {
      "cell_type": "code",
      "execution_count": null,
      "metadata": {
        "id": "dJfEvhj9CLci",
        "colab": {
          "base_uri": "https://localhost:8080/"
        },
        "outputId": "33ac5c7d-521e-4f04-c6a6-355c478c102d"
      },
      "outputs": [
        {
          "output_type": "stream",
          "name": "stdout",
          "text": [
            "782/782 [==============================] - 722s 922ms/step - loss: 0.4819 - accuracy: 0.7738\n"
          ]
        },
        {
          "output_type": "execute_result",
          "data": {
            "text/plain": [
              "[0.4818773567676544, 0.7738000154495239]"
            ]
          },
          "metadata": {},
          "execution_count": 18
        }
      ],
      "source": [
        "model_bi.evaluate(test_ds)"
      ]
    },
    {
      "cell_type": "markdown",
      "metadata": {
        "id": "w2ZLxoWoCLck"
      },
      "source": [
        "## Modelo por convolucionales de 1 dimensión\n",
        "\n",
        "Este modelo viene como modelo de base en Keras, y es un buen inicio para ver como usar convolucionales como modelos para PLN.\n",
        "\n"
      ]
    },
    {
      "cell_type": "code",
      "execution_count": null,
      "metadata": {
        "id": "5yKeHH6jCLcm"
      },
      "outputs": [],
      "source": [
        "emb = 128\n",
        "unidades = 128\n",
        "ventana = 7\n",
        "drop= 0.5\n",
        "\n",
        "# Entrada\n",
        "inputs = tf.keras.Input(shape=(None,), dtype=\"int64\")\n",
        "\n",
        "# Capa de embeddings\n",
        "x = layers.Embedding(max_features, emb)(inputs)\n",
        "x = layers.Dropout(drop)(x)\n",
        "\n",
        "# Conv1D + global max pooling\n",
        "x = layers.Conv1D(\n",
        "    unidades,\n",
        "    ventana,\n",
        "    padding=\"valid\",\n",
        "    activation=\"relu\",\n",
        "    strides=3\n",
        ")(x)\n",
        "x = layers.Conv1D(\n",
        "    unidades,\n",
        "    ventana,\n",
        "    padding=\"valid\",\n",
        "    activation=\"relu\",\n",
        "    strides=3\n",
        ")(x)\n",
        "x = layers.GlobalMaxPooling1D()(x)\n",
        "\n",
        "# Vanilla hidden layer:\n",
        "x = layers.Dense(unidades, activation=\"relu\")(x)\n",
        "x = layers.Dropout(drop)(x)\n",
        "\n",
        "# Salida\n",
        "predictions = layers.Dense(1, activation=\"sigmoid\", name=\"predictions\")(x)\n",
        "\n",
        "model_conv1d = tf.keras.Model(inputs, predictions)"
      ]
    },
    {
      "cell_type": "code",
      "execution_count": null,
      "metadata": {
        "id": "FNItvjxyCLco",
        "colab": {
          "base_uri": "https://localhost:8080/"
        },
        "outputId": "6934a8c6-b1a5-484c-fa46-93262b541c1e"
      },
      "outputs": [
        {
          "output_type": "stream",
          "name": "stdout",
          "text": [
            "Epoch 1/3\n",
            "625/625 [==============================] - 107s 169ms/step - loss: 0.5093 - accuracy: 0.7077 - val_loss: 0.3183 - val_accuracy: 0.8646\n",
            "Epoch 2/3\n",
            "625/625 [==============================] - 107s 171ms/step - loss: 0.2265 - accuracy: 0.9102 - val_loss: 0.3086 - val_accuracy: 0.8752\n",
            "Epoch 3/3\n",
            "625/625 [==============================] - 104s 167ms/step - loss: 0.1189 - accuracy: 0.9557 - val_loss: 0.4824 - val_accuracy: 0.8582\n"
          ]
        },
        {
          "output_type": "execute_result",
          "data": {
            "text/plain": [
              "<keras.src.callbacks.History at 0x79f4ccb13eb0>"
            ]
          },
          "metadata": {},
          "execution_count": 21
        }
      ],
      "source": [
        "# Compile the model with binary crossentropy loss and an adam optimizer.\n",
        "model_conv1d.compile(\n",
        "    loss=\"binary_crossentropy\",\n",
        "    optimizer=\"adam\",\n",
        "    metrics=[\"accuracy\"]\n",
        ")\n",
        "\n",
        "model_conv1d.fit(\n",
        "    train_ds,\n",
        "    validation_data=val_ds,\n",
        "    epochs=3\n",
        ")"
      ]
    },
    {
      "cell_type": "code",
      "execution_count": null,
      "metadata": {
        "id": "-X7IGeM3CLcp",
        "colab": {
          "base_uri": "https://localhost:8080/"
        },
        "outputId": "de1a86af-37e8-46de-b3e0-6f886edd5e97"
      },
      "outputs": [
        {
          "output_type": "stream",
          "name": "stdout",
          "text": [
            "782/782 [==============================] - 25s 32ms/step - loss: 0.4885 - accuracy: 0.8502\n"
          ]
        },
        {
          "output_type": "execute_result",
          "data": {
            "text/plain": [
              "[0.48851874470710754, 0.8501999974250793]"
            ]
          },
          "metadata": {},
          "execution_count": 22
        }
      ],
      "source": [
        "model_conv1d.evaluate(test_ds)"
      ]
    }
  ],
  "metadata": {
    "kernelspec": {
      "display_name": "Python 3",
      "language": "python",
      "name": "python3"
    },
    "language_info": {
      "codemirror_mode": {
        "name": "ipython",
        "version": 3
      },
      "file_extension": ".py",
      "mimetype": "text/x-python",
      "name": "python",
      "nbconvert_exporter": "python",
      "pygments_lexer": "ipython3",
      "version": "3.8.13"
    },
    "colab": {
      "provenance": [],
      "include_colab_link": true
    }
  },
  "nbformat": 4,
  "nbformat_minor": 0
}