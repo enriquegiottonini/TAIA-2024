{
  "metadata": {
    "kernelspec": {
      "name": "python3",
      "display_name": "Python 3",
      "language": "python"
    },
    "language_info": {
      "name": "python",
      "version": "3.10.13",
      "mimetype": "text/x-python",
      "codemirror_mode": {
        "name": "ipython",
        "version": 3
      },
      "pygments_lexer": "ipython3",
      "nbconvert_exporter": "python",
      "file_extension": ".py"
    },
    "colab": {
      "provenance": [],
      "name": "notebooka1a4601a0b",
      "include_colab_link": true
    },
    "kaggle": {
      "accelerator": "none",
      "dataSources": [
        {
          "sourceId": 8352049,
          "sourceType": "datasetVersion",
          "datasetId": 4962353
        }
      ],
      "dockerImageVersionId": 30698,
      "isInternetEnabled": true,
      "language": "python",
      "sourceType": "notebook",
      "isGpuEnabled": false
    }
  },
  "nbformat_minor": 0,
  "nbformat": 4,
  "cells": [
    {
      "cell_type": "markdown",
      "metadata": {
        "id": "view-in-github",
        "colab_type": "text"
      },
      "source": [
        "<a href=\"https://colab.research.google.com/github/enriquegiottonini/TAIA-2024/blob/main/4_mecanismo_att_a_pie.ipynb\" target=\"_parent\"><img src=\"https://colab.research.google.com/assets/colab-badge.svg\" alt=\"Open In Colab\"/></a>"
      ]
    },
    {
      "source": [
        "\n",
        "# IMPORTANT: RUN THIS CELL IN ORDER TO IMPORT YOUR KAGGLE DATA SOURCES\n",
        "# TO THE CORRECT LOCATION (/kaggle/input) IN YOUR NOTEBOOK,\n",
        "# THEN FEEL FREE TO DELETE THIS CELL.\n",
        "# NOTE: THIS NOTEBOOK ENVIRONMENT DIFFERS FROM KAGGLE'S PYTHON\n",
        "# ENVIRONMENT SO THERE MAY BE MISSING LIBRARIES USED BY YOUR\n",
        "# NOTEBOOK.\n",
        "\n",
        "import os\n",
        "import sys\n",
        "from tempfile import NamedTemporaryFile\n",
        "from urllib.request import urlopen\n",
        "from urllib.parse import unquote, urlparse\n",
        "from urllib.error import HTTPError\n",
        "from zipfile import ZipFile\n",
        "import tarfile\n",
        "import shutil\n",
        "\n",
        "CHUNK_SIZE = 40960\n",
        "DATA_SOURCE_MAPPING = 'dataset:https%3A%2F%2Fstorage.googleapis.com%2Fkaggle-data-sets%2F4962353%2F8352049%2Fbundle%2Farchive.zip%3FX-Goog-Algorithm%3DGOOG4-RSA-SHA256%26X-Goog-Credential%3Dgcp-kaggle-com%2540kaggle-161607.iam.gserviceaccount.com%252F20240508%252Fauto%252Fstorage%252Fgoog4_request%26X-Goog-Date%3D20240508T030458Z%26X-Goog-Expires%3D259200%26X-Goog-SignedHeaders%3Dhost%26X-Goog-Signature%3D9d85b5b980167e2cc25979cf2758540cb7f27f72ae25ce74591b73b875cff6ca206ab15bc7da28d8f122de22e2318fa5d5663a43dd7d99628a530f331cd9ee006350b6f2eeb6a757e01c7da286cd5a879e1be6b641faa450a6bf8583906fe72e6d9295697f5b9be1f285abc83fbabd0c98a52e253ba4855c54b8ef90efcb00c11a43b6064ec11093cb05b8a1b9feb746e9e7b60f25e7ff2969e2a9a4b1a5618530b315801ea76558007e984bb4f97b4c11d4a0d21cee87709cea3d31a6a6b9530a2a6159971160e7ab7ca44e1a13925a5fba43583c7a999c41bf07b514b7d9ff8c37277a0cd39c31a7216e7035bfd09b85488b14d84e3ed28a26bd0b623bce36'\n",
        "\n",
        "KAGGLE_INPUT_PATH='/kaggle/input'\n",
        "KAGGLE_WORKING_PATH='/kaggle/working'\n",
        "KAGGLE_SYMLINK='kaggle'\n",
        "\n",
        "!umount /kaggle/input/ 2> /dev/null\n",
        "shutil.rmtree('/kaggle/input', ignore_errors=True)\n",
        "os.makedirs(KAGGLE_INPUT_PATH, 0o777, exist_ok=True)\n",
        "os.makedirs(KAGGLE_WORKING_PATH, 0o777, exist_ok=True)\n",
        "\n",
        "try:\n",
        "  os.symlink(KAGGLE_INPUT_PATH, os.path.join(\"..\", 'input'), target_is_directory=True)\n",
        "except FileExistsError:\n",
        "  pass\n",
        "try:\n",
        "  os.symlink(KAGGLE_WORKING_PATH, os.path.join(\"..\", 'working'), target_is_directory=True)\n",
        "except FileExistsError:\n",
        "  pass\n",
        "\n",
        "for data_source_mapping in DATA_SOURCE_MAPPING.split(','):\n",
        "    directory, download_url_encoded = data_source_mapping.split(':')\n",
        "    download_url = unquote(download_url_encoded)\n",
        "    filename = urlparse(download_url).path\n",
        "    destination_path = os.path.join(KAGGLE_INPUT_PATH, directory)\n",
        "    try:\n",
        "        with urlopen(download_url) as fileres, NamedTemporaryFile() as tfile:\n",
        "            total_length = fileres.headers['content-length']\n",
        "            print(f'Downloading {directory}, {total_length} bytes compressed')\n",
        "            dl = 0\n",
        "            data = fileres.read(CHUNK_SIZE)\n",
        "            while len(data) > 0:\n",
        "                dl += len(data)\n",
        "                tfile.write(data)\n",
        "                done = int(50 * dl / int(total_length))\n",
        "                sys.stdout.write(f\"\\r[{'=' * done}{' ' * (50-done)}] {dl} bytes downloaded\")\n",
        "                sys.stdout.flush()\n",
        "                data = fileres.read(CHUNK_SIZE)\n",
        "            if filename.endswith('.zip'):\n",
        "              with ZipFile(tfile) as zfile:\n",
        "                zfile.extractall(destination_path)\n",
        "            else:\n",
        "              with tarfile.open(tfile.name) as tarfile:\n",
        "                tarfile.extractall(destination_path)\n",
        "            print(f'\\nDownloaded and uncompressed: {directory}')\n",
        "    except HTTPError as e:\n",
        "        print(f'Failed to load (likely expired) {download_url} to path {destination_path}')\n",
        "        continue\n",
        "    except OSError as e:\n",
        "        print(f'Failed to load {download_url} to path {destination_path}')\n",
        "        continue\n",
        "\n",
        "print('Data source import complete.')\n"
      ],
      "metadata": {
        "id": "ejAt4fMUKVTT"
      },
      "cell_type": "code",
      "outputs": [],
      "execution_count": null
    },
    {
      "cell_type": "markdown",
      "source": [
        "<center>\n",
        "<p><img src=\"https://mcd.unison.mx/wp-content/themes/awaken/img/logo_mcd.png\" width=\"150\">\n",
        "</p>\n",
        "\n",
        "\n",
        "\n",
        "<h1>Curso Procesamiento de Lenguaje Natural</h1>\n",
        "\n",
        "<h3>El mecanismo de atención a pie</h3>\n",
        "\n",
        "\n",
        "<p> Julio Waissman Vilanova </p>\n",
        "<p>\n",
        "<img src=\"https://identidadbuho.unison.mx/wp-content/uploads/2019/06/letragrama-cmyk-72.jpg\" width=\"150\">\n",
        "</p>\n",
        "\n",
        "\n",
        "<a target=\"_blank\" href=\"https://colab.research.google.com/github/mcd-unison/pln/blob/main/labs/atencion/atencion.ipynb\"><img src=\"https://i.ibb.co/2P3SLwK/colab.png\"  style=\"padding-bottom:5px;\"  width=\"30\" /> Ejecuta en Colab</a>\n",
        "\n",
        "Tomado parcialmente y adaptado de la libreta <i>C4_W1_Ungraded_Lab_1_Basic_Attention.ipynb</i> de la  <i>Especialización en procesamiento de lenguaje natural</i> de <i>Deeplearning.ai</i>, disponible en <i>Coursera</i>.\n",
        "\n",
        "</center>\n"
      ],
      "metadata": {
        "id": "-IFjdySs4wh1"
      }
    },
    {
      "cell_type": "markdown",
      "source": [
        "Como a estas alturas ya deberíamos haber visto en el curso, la atención permite que un modelo del tipo `seq2seq` utilice en cada paso del *decoder*, información de cada paso del *encoder* en lugar de solo el estado oculto final del codificador.\n",
        "\n",
        "En la operación de atención, las salidas del *encoder* se ponderan según el estado oculto del *decoder* y luego se combinan en un único vector de contexto. Este vector se utiliza luego como entrada para el decodificador y predecir el siguiente paso de salida.\n",
        "\n",
        "En esta libreta vamos a:\n",
        "\n",
        "- Implementar en numpy (a pie) el mecanismo de atención para ver como funciona (sin aprendizaje) tal como se propone en [el artículo original de Bhadanau, et al (2014)](https://arxiv.org/abs/1409.0473).\n",
        "  \n",
        "- Implementar en numpy (a pie) el mecanismo de atención tipo **QKV** (**Q**ueries, **K**eys, **V**alues) para ver como funciona (sin aprendizaje) tal como se propone en el famoso artículo de [Attention Is All You Need](https://arxiv.org/abs/1706.03762). Desde este artículo y basado en este mecanismo de atención, los transformadores han dominado a los modelos para procesamiento de lenguaje natural."
      ],
      "metadata": {
        "id": "WTarWBhY4wh7"
      }
    },
    {
      "cell_type": "code",
      "source": [
        "!ls"
      ],
      "metadata": {
        "id": "KsWn1u4y7KPb",
        "execution": {
          "iopub.status.busy": "2024-05-08T02:56:02.648362Z",
          "iopub.execute_input": "2024-05-08T02:56:02.648747Z",
          "iopub.status.idle": "2024-05-08T02:56:03.665988Z",
          "shell.execute_reply.started": "2024-05-08T02:56:02.648716Z",
          "shell.execute_reply": "2024-05-08T02:56:03.664591Z"
        },
        "trusted": true
      },
      "execution_count": null,
      "outputs": []
    },
    {
      "cell_type": "code",
      "source": [
        "import pickle\n",
        "import matplotlib.pyplot as plt\n",
        "import numpy as np"
      ],
      "metadata": {
        "id": "ct4VndB64wh9",
        "execution": {
          "iopub.status.busy": "2024-05-08T02:56:06.651303Z",
          "iopub.execute_input": "2024-05-08T02:56:06.651703Z",
          "iopub.status.idle": "2024-05-08T02:56:06.657044Z",
          "shell.execute_reply.started": "2024-05-08T02:56:06.651667Z",
          "shell.execute_reply": "2024-05-08T02:56:06.655866Z"
        },
        "trusted": true
      },
      "execution_count": null,
      "outputs": []
    },
    {
      "cell_type": "markdown",
      "source": [
        "Y la función *softmax* que no viene por default con numpy:"
      ],
      "metadata": {
        "id": "nzXKtsva4wh-"
      }
    },
    {
      "cell_type": "code",
      "source": [
        "def softmax(x, axis=0):\n",
        "    \"\"\" Calcula la función softmax en un eje específico\n",
        "\n",
        "        axis=0 calcula softmax en los renglones, cada columna de salida suma 1\n",
        "        axis=1 calcula softmax en las columnas, cada renglón de salida suma 1\n",
        "    \"\"\"\n",
        "    return np.exp(x) / np.expand_dims(np.sum(np.exp(x), axis=axis), axis)"
      ],
      "metadata": {
        "id": "vQOTNPxT4wiA",
        "execution": {
          "iopub.status.busy": "2024-05-08T02:56:14.382848Z",
          "iopub.execute_input": "2024-05-08T02:56:14.383238Z",
          "iopub.status.idle": "2024-05-08T02:56:14.389308Z",
          "shell.execute_reply.started": "2024-05-08T02:56:14.383205Z",
          "shell.execute_reply": "2024-05-08T02:56:14.388118Z"
        },
        "trusted": true
      },
      "execution_count": null,
      "outputs": []
    },
    {
      "cell_type": "markdown",
      "source": [
        "## El primer mecanismo de atención\n",
        "\n",
        "### El modelo\n",
        "\n",
        "El primer paso es calcular los puntajes de alineación. Esto es una medida de similitud entre el estado oculto del decodificador y cada estado oculto del codificador. Según el artículo, esta operación se ve así:\n",
        "\n",
        "$$\n",
        "\\large e_{ij} = v_a^\\top \\tanh{\\left(W_a s_{i-1} + U_a h_j\\right)}\n",
        "$$\n",
        "\n",
        "donde $W_a \\in \\mathbb{R}^{n\\times m}$, $U_a \\in \\mathbb{R}^{n \\times m} $ y $v_a \\in \\mathbb{R}^m$ son las matrices de peso y $n$ es el tamaño del estado oculto. En la práctica, esto se implementa como una red neuronal feedforward con dos capas, donde $m$ es el tamaño de las capas en la red de alineación. Se ve algo así:\n",
        "\n",
        "![alignment_model.png](attachment:alignment_model.png)\n",
        "\n",
        "Aquí, $h_j$ son los estados ocultos del codificador para cada paso de entrada $j$ y $s_{i - 1}$ es el estado oculto del decodificador del paso anterior. La primera capa corresponde a $W_a$ y $U_a$, mientras que la segunda capa corresponde a $v_a$.\n",
        "\n",
        "Para implementar esto, primero concatena los estados ocultos del codificador y del decodificador para producir un array con tamaño $K \\times 2n$, donde $K$ es el número de estados/pasos del codificador. Para esto, utiliza `np.concatenate` ([documentación](https://numpy.org/doc/stable/reference/generated/numpy.concatenate.html)).\n",
        "\n",
        "Ten en cuenta que solo hay un estado del decodificador, así que necesitarás remodelarlo para concatenar los arrays correctamente. La forma más fácil es usar `decoder_state.repeat` ([documentación](https://numpy.org/doc/stable/reference/generated/numpy.repeat.html#numpy.repeat)) para que coincida con el tamaño del array de estados ocultos.\n",
        "\n",
        "Luego, aplica la primera capa como una multiplicación de matrices entre los pesos y la entrada concatenada. Usa la función tanh para obtener las activaciones. Finalmente, realiza la multiplicación de matrices de los pesos de la segunda capa y las activaciones. Esto te dará los puntajes de alineación."
      ],
      "metadata": {
        "id": "zk4i6mjA4wiB"
      }
    },
    {
      "cell_type": "code",
      "source": [
        "hidden_size = 16\n",
        "attention_size = 10\n",
        "input_length = 5\n",
        "\n",
        "# Ejemplos de dalva para probar\n",
        "np.random.seed(42)\n",
        "encoder_states = np.random.randn(input_length, hidden_size)\n",
        "decoder_state = np.random.randn(1, hidden_size)\n",
        "\n",
        "# Pesos usados en el mecanismo de atención. Estos se aprenden en el proceso de\n",
        "# aprendizaje, pero aqui vaos a ponerlos como pesos fijos en forma pseudoaleatoria\n",
        "layer_1 = np.random.randn(2 * hidden_size, attention_size)\n",
        "layer_2 = np.random.randn(attention_size, 1)\n",
        "\n",
        "# La función de alineamiento\n",
        "# (para encontrar los pesos de las entradas en las salidas)\n",
        "\n",
        "def alignment(encoder_states, decoder_state):\n",
        "\n",
        "    # Concatena las dos entradas\n",
        "    inputs = np.concatenate(\n",
        "        (encoder_states, decoder_state.repeat(input_length, axis=0)),\n",
        "        axis=1\n",
        "    )\n",
        "\n",
        "    # Capa densa con activación tanh\n",
        "    activations = np.tanh(inputs @ layer_1)\n",
        "\n",
        "    # Capa densa con activación lineal\n",
        "    scores = activations @ layer_2\n",
        "\n",
        "    # fin de la red neuronal de atención\n",
        "    return scores"
      ],
      "metadata": {
        "id": "YCrI1riy4wiD",
        "execution": {
          "iopub.status.busy": "2024-05-08T02:56:22.568721Z",
          "iopub.execute_input": "2024-05-08T02:56:22.569433Z",
          "iopub.status.idle": "2024-05-08T02:56:22.57695Z",
          "shell.execute_reply.started": "2024-05-08T02:56:22.569401Z",
          "shell.execute_reply": "2024-05-08T02:56:22.575662Z"
        },
        "trusted": true
      },
      "execution_count": null,
      "outputs": []
    },
    {
      "cell_type": "markdown",
      "source": [
        "y para probar..."
      ],
      "metadata": {
        "id": "zO2x85x04wiF"
      }
    },
    {
      "cell_type": "code",
      "source": [
        "scores = alignment(encoder_states, decoder_state)\n",
        "print(scores)"
      ],
      "metadata": {
        "id": "xwpuREyS4wiH",
        "outputId": "906d895b-c2c1-42c2-fe89-460d2e924b3a",
        "colab": {
          "base_uri": "https://localhost:8080/"
        },
        "execution": {
          "iopub.status.busy": "2024-05-08T02:56:27.371518Z",
          "iopub.execute_input": "2024-05-08T02:56:27.371892Z",
          "iopub.status.idle": "2024-05-08T02:56:27.381738Z",
          "shell.execute_reply.started": "2024-05-08T02:56:27.371863Z",
          "shell.execute_reply": "2024-05-08T02:56:27.380723Z"
        },
        "trusted": true
      },
      "execution_count": null,
      "outputs": [
        {
          "name": "stdout",
          "text": "[[4.35790943]\n [5.92373433]\n [4.18673175]\n [2.11437202]\n [0.95767155]]\n",
          "output_type": "stream"
        }
      ]
    },
    {
      "cell_type": "markdown",
      "source": [
        "Deberíamos tener en la salida anterior:\n",
        "\n",
        "```python\n",
        "[[4.35790943]\n",
        " [5.92373433]\n",
        " [4.18673175]\n",
        " [2.11437202]\n",
        " [0.95767155]]\n",
        "```"
      ],
      "metadata": {
        "id": "mYS_CVlI4wiJ"
      }
    },
    {
      "cell_type": "markdown",
      "source": [
        "### Ponderar los vectores de salida del codificador y sumar\n",
        "\n",
        "El siguiente paso es calcular los pesos a partir de los puntajes de alineación. Estos pesos determinan las salidas del codificador que son más importantes para la salida del decodificador. Estos pesos deben estar entre 0 y 1, y sumar 1.\n",
        "\n",
        "Para esto vamos a usar la función softmax que ya he implementado arriba. Los pesos te indican la importancia de cada palabra de entrada en relación con el estado del decodificador. En este paso, utilizas los pesos para modular la magnitud de los vectores del codificador.\n",
        "\n",
        "Las palabras con poca importancia se reducirán en comparación con las palabras importantes. Multiplica cada vector del codificador por su respectivo peso para obtener los vectores de alineación y luego suma los vectores de alineación ponderados para obtener el vector de contexto. Matemáticamente,\n",
        "\n",
        "$$\n",
        "\\large c_i = \\sum_{j=1}^K\\alpha_{ij} h_{j}\n",
        "$$"
      ],
      "metadata": {
        "id": "P1pyRFDy4wiK"
      }
    },
    {
      "cell_type": "code",
      "source": [
        "def attention(encoder_states, decoder_state):\n",
        "    \"\"\" Example function that calculates attention, returns the context vector\n",
        "\n",
        "        Arguments:\n",
        "        encoder_vectors: NxM numpy array, where N is the number of vectors and M is the vector length\n",
        "        decoder_vector: 1xM numpy array, M is the vector length, much be the same M as encoder_vectors\n",
        "    \"\"\"\n",
        "\n",
        "    # Calcula el score de alignment\n",
        "    scores = alignment(encoder_states, decoder_state)\n",
        "\n",
        "    # Softmax\n",
        "    weights = softmax(scores)\n",
        "\n",
        "    # Multiplica cada estado del encoder por su peso respectivo\n",
        "    weighted_scores = encoder_states * weights\n",
        "\n",
        "    # Suma los pesos por los ejemplos para encontrar la salida\n",
        "    context = weighted_scores.sum(axis=0)\n",
        "    return context\n",
        "\n",
        "context_vector = attention(encoder_states, decoder_state)\n",
        "print(context_vector)"
      ],
      "metadata": {
        "id": "Z4mAaIJx4wiL",
        "outputId": "1f861d15-754f-4937-e0f2-ffcad68d47e4",
        "colab": {
          "base_uri": "https://localhost:8080/"
        },
        "execution": {
          "iopub.status.busy": "2024-05-08T02:56:34.650259Z",
          "iopub.execute_input": "2024-05-08T02:56:34.651201Z",
          "iopub.status.idle": "2024-05-08T02:56:34.658174Z",
          "shell.execute_reply.started": "2024-05-08T02:56:34.651164Z",
          "shell.execute_reply": "2024-05-08T02:56:34.657079Z"
        },
        "trusted": true
      },
      "execution_count": null,
      "outputs": [
        {
          "name": "stdout",
          "text": "[-0.63514569  0.04917298 -0.43930867 -0.9268003   1.01903919 -0.43181409\n  0.13365099 -0.84746874 -0.37572203  0.18279832 -0.90452701  0.17872958\n -0.58015282 -0.58294027 -0.75457577  1.32985756]\n",
          "output_type": "stream"
        }
      ]
    },
    {
      "cell_type": "markdown",
      "source": [
        "Si la función de `attention` se implementó correctamente, el vector de contexto debería ser:\n",
        "\n",
        "```python\n",
        "[-0.63514569  0.04917298 -0.43930867 -0.9268003   1.01903919 -0.43181409\n",
        "  0.13365099 -0.84746874 -0.37572203  0.18279832 -0.90452701  0.17872958\n",
        " -0.58015282 -0.58294027 -0.75457577  1.32985756]\n",
        "```\n",
        "\n"
      ],
      "metadata": {
        "id": "btnnb1w84wiM"
      }
    },
    {
      "cell_type": "markdown",
      "source": [
        "## El mecanismo de atención tipo QKV\n",
        "\n",
        "### Obteniendo los datos para el ejemplo\n",
        "\n",
        "El modelo  aprende cómo alinear palabras en diferentes idiomas. No se entrenarán pesos aquí, así que en su lugar vamos a usear embeddings de palabras alineadas pre-entrenadas cono las de [fasttext](https://fasttext.cc/docs/en/aligned-vectors.html).\n",
        "\n",
        "La siguientes celdas lo hacen a pie, pero yo te recomiendo que saltes estas primeras celdas sn ejecutar (tardan muchisimo) y utilices los archivos que obtuvimos con estas celdas:"
      ],
      "metadata": {
        "id": "Er9yD_GD4wiN"
      }
    },
    {
      "cell_type": "code",
      "source": [
        "!curl -O https://dl.fbaipublicfiles.com/fasttext/vectors-aligned/wiki.es.align.vec\n",
        "!curl -O https://dl.fbaipublicfiles.com/fasttext/vectors-aligned/wiki.en.align.vec"
      ],
      "metadata": {
        "id": "_AmxQSbX4wiN"
      },
      "execution_count": null,
      "outputs": []
    },
    {
      "cell_type": "code",
      "source": [
        "en_words = {}\n",
        "en_emb = None\n",
        "\n",
        "with open(\"wiki.en.align.vec\") as fp:\n",
        "  i = 0\n",
        "  for line in fp.readlines():\n",
        "    line_l = line.split(' ')\n",
        "    if i == 0:\n",
        "      en_emb = np.zeros((int(line_l[0]), int(line_l[1])))\n",
        "    else:\n",
        "      en_words[line_l[0]] = i - 1\n",
        "      en_emb[i - 1, :] = np.array([float(d) for d in line_l[1:]])\n",
        "    i += 1\n",
        "\n",
        "print(len(en_words))\n",
        "print(en_emb)"
      ],
      "metadata": {
        "id": "qo49L9wh4wiO"
      },
      "execution_count": null,
      "outputs": []
    },
    {
      "cell_type": "code",
      "source": [
        "es_words = {}\n",
        "es_emb = None\n",
        "\n",
        "with open(\"wiki.es.align.vec\") as fp:\n",
        "  i = 0\n",
        "  for line in fp.readlines():\n",
        "    line_l = line.split(' ')\n",
        "    if i == 0:\n",
        "      es_emb = np.zeros((int(line_l[0]), int(line_l[1])))\n",
        "    else:\n",
        "      es_words[line_l[0]] = i - 1\n",
        "      es_emb[i - 1, :] = np.array([float(d) for d in line_l[1:]])\n",
        "    i += 1\n",
        "\n",
        "print(len(es_words))\n",
        "print(es_emb)"
      ],
      "metadata": {
        "id": "CpsyxC3E4wiP"
      },
      "execution_count": null,
      "outputs": []
    },
    {
      "cell_type": "code",
      "source": [
        "np.save(\"en_emb\", en_emb)\n",
        "np.save(\"es_emb\", es_emb)\n",
        "\n",
        "with open('en_words.pickle', 'wb') as fp:\n",
        "    pickle.dump(en_words, fp, protocol=pickle.HIGHEST_PROTOCOL)\n",
        "\n",
        "with open('es_words.pickle', 'wb') as fp:\n",
        "    pickle.dump(es_words, fp, protocol=pickle.HIGHEST_PROTOCOL)"
      ],
      "metadata": {
        "id": "58yuIoT74wiQ"
      },
      "execution_count": null,
      "outputs": []
    },
    {
      "cell_type": "markdown",
      "source": [
        "Para evitar ejecutar esto (no corre en colab si no tienes la versión pro, por falta de RAM), puede descargar directamente los archivos ya transformados [desde mi espacio de *One Drive* de la Universidad de Sonora](https://unisonmx-my.sharepoint.com/:f:/g/personal/julio_waissman_unison_mx/EhtLxLcVuZFHizfT3bFR8zABKw7Lxz3Bow8JtoRwl1NtQA?e=C6Bx6L).\n",
        "\n",
        "No hay manera sencilla de automatizar la descarga de *One Drive*, así que los tendrás que bajar a mano y ponerlos en el mismo repositorio donde estás ejecutando la libreta. Con todo es la forma más rápida.\n",
        "\n",
        "Si tienes los archivos `npz` y `pickle` correspondientes, entonces simplemente:"
      ],
      "metadata": {
        "id": "G_UQaUZI4wiR"
      }
    },
    {
      "cell_type": "code",
      "source": [
        "# Carga los diccionarios word2idxs\n",
        "with open('/kaggle/input/dataset/en_words.pickle', 'rb') as fp:\n",
        "    en_words = pickle.load(fp)\n",
        "\n",
        "\n",
        "with open('/kaggle/input/dataset/es_words.pickle', 'rb') as fp:\n",
        "    es_words = pickle.load(fp)\n",
        "\n",
        "with open('/kaggle/input/dataset/en_emb (1).npy', 'rb') as fp:\n",
        "    en_emb = np.load(fp)\n",
        "\n",
        "with open('/kaggle/input/dataset/en_emb (1).npy', 'rb') as fp:\n",
        "    es_emb = np.load(fp)\n",
        "\n",
        "print(f\"La forma de en_emb es un ndarray de forma {en_emb.shape}\")\n",
        "print(f\"La forma de es_emb es un ndarray de forma {es_emb.shape}\")\n",
        "print(f\"es_words es un diccionario de dimensión {len(es_emb)} cuyas claves son indices y los valores tokens\")\n",
        "print(f\"es_words es un diccionario de dimensión {len(en_emb)} cuyas claves son indices y los valores tokens\")\n"
      ],
      "metadata": {
        "id": "1ufOeIEO4wiS",
        "outputId": "0ff0026b-b74c-4643-f4de-1e0e02f56d97",
        "colab": {
          "base_uri": "https://localhost:8080/",
          "height": 211
        },
        "execution": {
          "iopub.status.busy": "2024-05-08T03:01:22.549758Z",
          "iopub.execute_input": "2024-05-08T03:01:22.550198Z",
          "iopub.status.idle": "2024-05-08T03:02:05.808777Z",
          "shell.execute_reply.started": "2024-05-08T03:01:22.550167Z",
          "shell.execute_reply": "2024-05-08T03:02:05.807631Z"
        },
        "trusted": true
      },
      "execution_count": null,
      "outputs": [
        {
          "name": "stdout",
          "text": "La forma de en_emb es un ndarray de forma (2519370, 300)\nLa forma de es_emb es un ndarray de forma (2519370, 300)\nes_words es un diccionario de dimensión 2519370 cuyas claves son indices y los valores tokens\nes_words es un diccionario de dimensión 2519370 cuyas claves son indices y los valores tokens\n",
          "output_type": "stream"
        }
      ]
    },
    {
      "cell_type": "markdown",
      "source": [
        "### Preprocesamiento de datos\n",
        "\n",
        "Vamos a usar una función para convertir una sentencia a una lista de tokens (palabras), y otra para convertir los tokens en embeddings, de acuerdo al embedding e indice elegido."
      ],
      "metadata": {
        "id": "Xpvm34f34wiU"
      }
    },
    {
      "cell_type": "code",
      "source": [
        "def tokenize(sentence, token_mapping):\n",
        "    tokenized = []\n",
        "\n",
        "    for word in sentence.lower().split(\" \"):\n",
        "        tokenized.append(token_mapping.get(word, -1))\n",
        "\n",
        "    return tokenized\n",
        "\n",
        "def embed(tokens, embeddings):\n",
        "    embed_size = embeddings.shape[1]\n",
        "\n",
        "    output = np.zeros((len(tokens), embed_size))\n",
        "    for i, token in enumerate(tokens):\n",
        "        if token == -1:\n",
        "            output[i] = np.zeros((1, embed_size))\n",
        "        else:\n",
        "            output[i] = embeddings[token]\n",
        "\n",
        "    return output"
      ],
      "metadata": {
        "id": "YoskSHjj4wiV",
        "execution": {
          "iopub.status.busy": "2024-05-08T03:02:44.354913Z",
          "iopub.execute_input": "2024-05-08T03:02:44.356703Z",
          "iopub.status.idle": "2024-05-08T03:02:44.367474Z",
          "shell.execute_reply.started": "2024-05-08T03:02:44.356645Z",
          "shell.execute_reply": "2024-05-08T03:02:44.366185Z"
        },
        "trusted": true
      },
      "execution_count": null,
      "outputs": []
    },
    {
      "cell_type": "markdown",
      "source": [
        "### El mecanismo de atención tipo QKV\n",
        "\n",
        "La atención por producto punto escalado consiste en dos multiplicaciones de matrices y una escala softmax, como se muestra en el diagrama a continuación de [Vaswani, et al. (2017)](https://arxiv.org/abs/1706.03762). Toma tres matrices de entrada: las consultas (queries), las claves (keys) y los valores (values).\n",
        "\n",
        "![attention.png](attachment:attention.png)\n",
        "\n",
        "Matemáticamente, esto se expresa como\n",
        "\n",
        "$$\n",
        "\\large \\mathrm{Atención}\\left(Q, K, V\\right) = \\mathrm{softmax}\\left(\\frac{QK^{\\top}}{\\sqrt{d_k}}\\right)V\n",
        "$$\n",
        "\n",
        "donde $Q$, $K$ y $V$ son las matrices de consultas (query), claves (key) y valores (values) respectivamente, y $d_k$ es la dimensión de las claves. En la práctica, Q, K y V tienen todas las mismas dimensiones. Esta forma de atención es más rápida y eficiente en espacio, ya que consta solo de multiplicaciones de matrices en lugar de una capa de alimentación adelante aprendida.\n",
        "\n",
        "Conceptualmente, la primera multiplicación de matrices es una medida de la similitud entre las consultas y las claves. Esto se transforma en pesos usando la función softmax. Estos pesos luego se aplican a los valores con la segunda multiplicación de matrices, lo que da como resultado vectores de atención de salida.\n",
        "\n",
        "Típicamente, los estados del decodificador se utilizan como consultas mientras que los estados del codificador son las claves y los valores.\n",
        "\n",
        "Para ilustrar como funciona, vamos a calcular las relaciones de pesos entre secuencia de encoder y decoder (relación entre consultas y llaves) antes de calcular los pesos:  "
      ],
      "metadata": {
        "id": "o2uGmv_74wiZ"
      }
    },
    {
      "cell_type": "code",
      "source": [
        "def calculate_weights(queries, keys):\n",
        "    \"\"\" Calculate the weights for scaled dot-product attention\"\"\"\n",
        "    # Replace None with your code.\n",
        "    dot = queries @ keys.T / np.sqrt(keys.shape[1])\n",
        "    weights = softmax(dot, axis=1)\n",
        "\n",
        "    return weights"
      ],
      "metadata": {
        "id": "y8o_ipMx4wic",
        "execution": {
          "iopub.status.busy": "2024-05-08T03:02:52.120362Z",
          "iopub.execute_input": "2024-05-08T03:02:52.121169Z",
          "iopub.status.idle": "2024-05-08T03:02:52.126713Z",
          "shell.execute_reply.started": "2024-05-08T03:02:52.121133Z",
          "shell.execute_reply": "2024-05-08T03:02:52.125479Z"
        },
        "trusted": true
      },
      "execution_count": null,
      "outputs": []
    },
    {
      "cell_type": "markdown",
      "source": [
        "Y vamos probando con un ejemplo la relacion entre la secuencia de entrada al encoder y de salida del decoder."
      ],
      "metadata": {
        "id": "Il_8e8a94wie"
      }
    },
    {
      "cell_type": "code",
      "source": [
        "sentence_en = \"The agreement on the European Economic Area was signed in August 1992 .\"\n",
        "tokenized_en = tokenize(sentence_en, en_words)\n",
        "embedded_en = embed(tokenized_en, en_emb)\n",
        "\n",
        "sentence_es = \"El acuerdo sobre la zona económica europea fue firmada en agosto 1992 .\"\n",
        "tokenized_es = tokenize(sentence_es, es_words)\n",
        "embedded_es = embed(tokenized_es, es_emb)\n",
        "\n",
        "# These weights indicate alignment between words in English and French\n",
        "alignment = calculate_weights(embedded_es, embedded_en)\n",
        "\n",
        "# Visualize weights to check for alignment\n",
        "fig, ax = plt.subplots(figsize=(7,7))\n",
        "ax.imshow(alignment, cmap='gray')\n",
        "ax.xaxis.tick_top()\n",
        "ax.set_xticks(np.arange(alignment.shape[1]))\n",
        "ax.set_xticklabels(sentence_en.split(\" \"), rotation=90, size=16);\n",
        "ax.set_yticks(np.arange(alignment.shape[0]));\n",
        "ax.set_yticklabels(sentence_es.split(\" \"), size=16);"
      ],
      "metadata": {
        "id": "gg1wXRVE4wig",
        "execution": {
          "iopub.status.busy": "2024-05-08T03:02:57.670245Z",
          "iopub.execute_input": "2024-05-08T03:02:57.671178Z",
          "iopub.status.idle": "2024-05-08T03:02:58.229086Z",
          "shell.execute_reply.started": "2024-05-08T03:02:57.671143Z",
          "shell.execute_reply": "2024-05-08T03:02:58.228002Z"
        },
        "trusted": true,
        "outputId": "a08c5564-e440-4cc6-ac62-e37a8b3b9d80"
      },
      "execution_count": null,
      "outputs": [
        {
          "output_type": "display_data",
          "data": {
            "text/plain": "<Figure size 700x700 with 1 Axes>",
            "image/png": "[encoded data removed]"
          },
          "metadata": {}
        }
      ]
    },
    {
      "cell_type": "markdown",
      "source": [
        "Y ahora si podemos ver como se reparten los pesos"
      ],
      "metadata": {
        "id": "ahtifJk24wii"
      }
    },
    {
      "cell_type": "code",
      "source": [
        "def attention_qkv(queries, keys, values):\n",
        "    return calculate_weights(queries, keys) @ values\n",
        "\n",
        "\n",
        "attention_qkv_result = attention_qkv(embedded_es, embedded_en, embedded_en)\n",
        "\n",
        "print(f\"La dimensión de los pesos obtenidos con attention_qkv es: {attention_qkv_result.shape}\")\n",
        "\n",
        "print(f\"Algunos elementos de la salida de pesos son:\\n{attention_qkv_result[0:2,:10]}\")"
      ],
      "metadata": {
        "id": "dOzFe9lr4wij",
        "execution": {
          "iopub.status.busy": "2024-05-08T03:03:22.210187Z",
          "iopub.execute_input": "2024-05-08T03:03:22.211002Z",
          "iopub.status.idle": "2024-05-08T03:03:22.21767Z",
          "shell.execute_reply.started": "2024-05-08T03:03:22.210966Z",
          "shell.execute_reply": "2024-05-08T03:03:22.216628Z"
        },
        "trusted": true,
        "outputId": "8cec33ff-884a-4951-8152-14d22d95168b"
      },
      "execution_count": null,
      "outputs": [
        {
          "name": "stdout",
          "text": "La dimensión de los pesos obtenidos con attention_qkv es: (13, 300)\nAlgunos elementos de la salida de pesos son:\n[[-0.04015745 -0.00296813  0.00385563  0.04859017 -0.02489909  0.01425786\n  -0.00365006 -0.06216928 -0.00204064  0.01639005]\n [-0.04054987 -0.00267037  0.00394919  0.04839484 -0.02485553  0.01440428\n  -0.00356858 -0.06204286 -0.00217183  0.01609501]]\n",
          "output_type": "stream"
        }
      ]
    }
  ]
}